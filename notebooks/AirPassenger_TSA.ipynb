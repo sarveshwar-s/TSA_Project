{
 "cells": [
  {
   "cell_type": "markdown",
   "id": "8e2369bd",
   "metadata": {},
   "source": [
    "## Import of libraries"
   ]
  },
  {
   "cell_type": "code",
   "execution_count": 23,
   "id": "36aad365",
   "metadata": {},
   "outputs": [],
   "source": [
    "import pandas as pd\n",
    "import numpy as np\n",
    "import matplotlib.pyplot as plt"
   ]
  },
  {
   "cell_type": "markdown",
   "id": "18eef2ae",
   "metadata": {},
   "source": [
    "## Setup Time Series"
   ]
  },
  {
   "cell_type": "code",
   "execution_count": 12,
   "id": "1a54cc0b",
   "metadata": {},
   "outputs": [
    {
     "data": {
      "text/html": [
       "<div>\n",
       "<style scoped>\n",
       "    .dataframe tbody tr th:only-of-type {\n",
       "        vertical-align: middle;\n",
       "    }\n",
       "\n",
       "    .dataframe tbody tr th {\n",
       "        vertical-align: top;\n",
       "    }\n",
       "\n",
       "    .dataframe thead th {\n",
       "        text-align: right;\n",
       "    }\n",
       "</style>\n",
       "<table border=\"1\" class=\"dataframe\">\n",
       "  <thead>\n",
       "    <tr style=\"text-align: right;\">\n",
       "      <th></th>\n",
       "      <th>Month</th>\n",
       "      <th>#Passengers</th>\n",
       "    </tr>\n",
       "  </thead>\n",
       "  <tbody>\n",
       "    <tr>\n",
       "      <th>0</th>\n",
       "      <td>1949-01</td>\n",
       "      <td>112</td>\n",
       "    </tr>\n",
       "    <tr>\n",
       "      <th>1</th>\n",
       "      <td>1949-02</td>\n",
       "      <td>118</td>\n",
       "    </tr>\n",
       "    <tr>\n",
       "      <th>2</th>\n",
       "      <td>1949-03</td>\n",
       "      <td>132</td>\n",
       "    </tr>\n",
       "    <tr>\n",
       "      <th>3</th>\n",
       "      <td>1949-04</td>\n",
       "      <td>129</td>\n",
       "    </tr>\n",
       "    <tr>\n",
       "      <th>4</th>\n",
       "      <td>1949-05</td>\n",
       "      <td>121</td>\n",
       "    </tr>\n",
       "  </tbody>\n",
       "</table>\n",
       "</div>"
      ],
      "text/plain": [
       "     Month  #Passengers\n",
       "0  1949-01          112\n",
       "1  1949-02          118\n",
       "2  1949-03          132\n",
       "3  1949-04          129\n",
       "4  1949-05          121"
      ]
     },
     "execution_count": 12,
     "metadata": {},
     "output_type": "execute_result"
    }
   ],
   "source": [
    "df = pd.read_csv(\"../datasets/AirPassengers.csv\")\n",
    "df.head()"
   ]
  },
  {
   "cell_type": "code",
   "execution_count": 13,
   "id": "2d518c44",
   "metadata": {},
   "outputs": [
    {
     "name": "stdout",
     "output_type": "stream",
     "text": [
      "<class 'pandas.core.frame.DataFrame'>\n",
      "RangeIndex: 144 entries, 0 to 143\n",
      "Data columns (total 2 columns):\n",
      " #   Column       Non-Null Count  Dtype \n",
      "---  ------       --------------  ----- \n",
      " 0   Month        144 non-null    object\n",
      " 1   #Passengers  144 non-null    int64 \n",
      "dtypes: int64(1), object(1)\n",
      "memory usage: 2.4+ KB\n"
     ]
    }
   ],
   "source": [
    "df.info()"
   ]
  },
  {
   "cell_type": "code",
   "execution_count": 14,
   "id": "63013f1e",
   "metadata": {},
   "outputs": [
    {
     "data": {
      "text/html": [
       "<div>\n",
       "<style scoped>\n",
       "    .dataframe tbody tr th:only-of-type {\n",
       "        vertical-align: middle;\n",
       "    }\n",
       "\n",
       "    .dataframe tbody tr th {\n",
       "        vertical-align: top;\n",
       "    }\n",
       "\n",
       "    .dataframe thead th {\n",
       "        text-align: right;\n",
       "    }\n",
       "</style>\n",
       "<table border=\"1\" class=\"dataframe\">\n",
       "  <thead>\n",
       "    <tr style=\"text-align: right;\">\n",
       "      <th></th>\n",
       "      <th>#Passengers</th>\n",
       "    </tr>\n",
       "  </thead>\n",
       "  <tbody>\n",
       "    <tr>\n",
       "      <th>count</th>\n",
       "      <td>144.000000</td>\n",
       "    </tr>\n",
       "    <tr>\n",
       "      <th>mean</th>\n",
       "      <td>280.298611</td>\n",
       "    </tr>\n",
       "    <tr>\n",
       "      <th>std</th>\n",
       "      <td>119.966317</td>\n",
       "    </tr>\n",
       "    <tr>\n",
       "      <th>min</th>\n",
       "      <td>104.000000</td>\n",
       "    </tr>\n",
       "    <tr>\n",
       "      <th>25%</th>\n",
       "      <td>180.000000</td>\n",
       "    </tr>\n",
       "    <tr>\n",
       "      <th>50%</th>\n",
       "      <td>265.500000</td>\n",
       "    </tr>\n",
       "    <tr>\n",
       "      <th>75%</th>\n",
       "      <td>360.500000</td>\n",
       "    </tr>\n",
       "    <tr>\n",
       "      <th>max</th>\n",
       "      <td>622.000000</td>\n",
       "    </tr>\n",
       "  </tbody>\n",
       "</table>\n",
       "</div>"
      ],
      "text/plain": [
       "       #Passengers\n",
       "count   144.000000\n",
       "mean    280.298611\n",
       "std     119.966317\n",
       "min     104.000000\n",
       "25%     180.000000\n",
       "50%     265.500000\n",
       "75%     360.500000\n",
       "max     622.000000"
      ]
     },
     "execution_count": 14,
     "metadata": {},
     "output_type": "execute_result"
    }
   ],
   "source": [
    "df.describe()"
   ]
  },
  {
   "cell_type": "code",
   "execution_count": 15,
   "id": "51ea8060",
   "metadata": {},
   "outputs": [],
   "source": [
    "df['Month']= pd.to_datetime(df['Month'])"
   ]
  },
  {
   "cell_type": "code",
   "execution_count": 16,
   "id": "30c073c0",
   "metadata": {},
   "outputs": [
    {
     "name": "stdout",
     "output_type": "stream",
     "text": [
      "<class 'pandas.core.frame.DataFrame'>\n",
      "RangeIndex: 144 entries, 0 to 143\n",
      "Data columns (total 2 columns):\n",
      " #   Column       Non-Null Count  Dtype         \n",
      "---  ------       --------------  -----         \n",
      " 0   Month        144 non-null    datetime64[ns]\n",
      " 1   #Passengers  144 non-null    int64         \n",
      "dtypes: datetime64[ns](1), int64(1)\n",
      "memory usage: 2.4 KB\n"
     ]
    }
   ],
   "source": [
    "df.info()"
   ]
  },
  {
   "cell_type": "code",
   "execution_count": 22,
   "id": "ece60461",
   "metadata": {},
   "outputs": [
    {
     "data": {
      "text/plain": [
       "[<matplotlib.lines.Line2D at 0x192aa8604f0>]"
      ]
     },
     "execution_count": 22,
     "metadata": {},
     "output_type": "execute_result"
    },
    {
     "data": {
      "image/png": "[encoded data removed]",
      "text/plain": [
       "<Figure size 432x288 with 1 Axes>"
      ]
     },
     "metadata": {
      "needs_background": "light"
     },
     "output_type": "display_data"
    }
   ],
   "source": [
    "x = df[\"Month\"]\n",
    "y = df[\"#Passengers\"]\n",
    "plt.plot(x,y)"
   ]
  },
  {
   "cell_type": "markdown",
   "id": "9bf4c246",
   "metadata": {},
   "source": [
    "## Stationarity"
   ]
  },
  {
   "cell_type": "code",
   "execution_count": 24,
   "id": "c6c2479b",
   "metadata": {},
   "outputs": [],
   "source": [
    "# Required Libraries\n",
    "from statsmodels.tsa.stattools import adfuller"
   ]
  },
  {
   "cell_type": "code",
   "execution_count": 40,
   "id": "d598728d",
   "metadata": {},
   "outputs": [],
   "source": [
    "def adf_calculation(col_name):\n",
    "    adf_test = adfuller(col_name)\n",
    "    adf_output = pd.Series(adf_test[0:4], index=[\"Test-Statistic\", \"p-value\", \"Lags Used\", \"Number of observations\"])\n",
    "    for key, value in adf_test[4].items():\n",
    "        adf_output[\"critical_value (%s) \"%key] = value\n",
    "    print(adf_output)"
   ]
  },
  {
   "cell_type": "code",
   "execution_count": 33,
   "id": "ba1cb13f",
   "metadata": {},
   "outputs": [
    {
     "name": "stdout",
     "output_type": "stream",
     "text": [
      "Test-Statistic              0.815369\n",
      "p-value                     0.991880\n",
      "Lags Used                  13.000000\n",
      "Number of observations    130.000000\n",
      "critical_value (1%)        -3.481682\n",
      "critical_value (5%)        -2.884042\n",
      "critical_value (10%)       -2.578770\n",
      "dtype: float64\n"
     ]
    }
   ],
   "source": [
    "adf_calculation(df[\"#Passengers\"])"
   ]
  },
  {
   "cell_type": "code",
   "execution_count": 34,
   "id": "8415307f",
   "metadata": {},
   "outputs": [
    {
     "name": "stdout",
     "output_type": "stream",
     "text": [
      "Test-Statistic              0.418755\n",
      "p-value                     0.982183\n",
      "Lags Used                  12.000000\n",
      "Number of observations    131.000000\n",
      "critical_value (1%)        -3.481282\n",
      "critical_value (5%)        -2.883868\n",
      "critical_value (10%)       -2.578677\n",
      "dtype: float64\n"
     ]
    }
   ],
   "source": [
    "adf_calculation(df[\"Month\"])"
   ]
  },
  {
   "cell_type": "code",
   "execution_count": 36,
   "id": "3fdfaefc",
   "metadata": {},
   "outputs": [
    {
     "data": {
      "text/plain": [
       "<AxesSubplot:>"
      ]
     },
     "execution_count": 36,
     "metadata": {},
     "output_type": "execute_result"
    },
    {
     "data": {
      "image/png": "[encoded data removed]",
      "text/plain": [
       "<Figure size 432x288 with 1 Axes>"
      ]
     },
     "metadata": {
      "needs_background": "light"
     },
     "output_type": "display_data"
    }
   ],
   "source": [
    "df[\"#Passengers\"].plot()"
   ]
  },
  {
   "cell_type": "code",
   "execution_count": 45,
   "id": "73ef753f",
   "metadata": {},
   "outputs": [],
   "source": [
    "# Performing differentiation\n",
    "df[\"Diff_passengers\"] = df[\"#Passengers\"] - df[\"#Passengers\"].shift(1)\n",
    "df[\"Diff_passengers\"] = df[\"Diff_passengers\"].dropna()\n",
    "df = df.dropna()"
   ]
  },
  {
   "cell_type": "code",
   "execution_count": 46,
   "id": "cdf201e7",
   "metadata": {},
   "outputs": [
    {
     "name": "stdout",
     "output_type": "stream",
     "text": [
      "Test-Statistic             -2.829267\n",
      "p-value                     0.054213\n",
      "Lags Used                  12.000000\n",
      "Number of observations    130.000000\n",
      "critical_value (1%)        -3.481682\n",
      "critical_value (5%)        -2.884042\n",
      "critical_value (10%)       -2.578770\n",
      "dtype: float64\n"
     ]
    }
   ],
   "source": [
    "adf_calculation(df[\"Diff_passengers\"]) # Converted non-stationary to stationary"
   ]
  },
  {
   "cell_type": "code",
   "execution_count": 69,
   "id": "f007a538",
   "metadata": {},
   "outputs": [],
   "source": [
    "df[\"Second_Passengers\"] = df[\"Diff_passengers\"] - df[\"Diff_passengers\"].shift(1)\n",
    "df = df.dropna()"
   ]
  },
  {
   "cell_type": "code",
   "execution_count": 70,
   "id": "289d713a",
   "metadata": {},
   "outputs": [
    {
     "name": "stdout",
     "output_type": "stream",
     "text": [
      "Test-Statistic           -1.631303e+01\n",
      "p-value                   3.182121e-29\n",
      "Lags Used                 1.100000e+01\n",
      "Number of observations    1.290000e+02\n",
      "critical_value (1%)      -3.482088e+00\n",
      "critical_value (5%)      -2.884219e+00\n",
      "critical_value (10%)     -2.578864e+00\n",
      "dtype: float64\n"
     ]
    }
   ],
   "source": [
    "adf_calculation(df[\"Second_Passengers\"])"
   ]
  },
  {
   "cell_type": "code",
   "execution_count": 48,
   "id": "dfea0c82",
   "metadata": {},
   "outputs": [],
   "source": [
    "df[\"Diff_Month\"] = df[\"Month\"] - df[\"Month\"].shift(1)\n",
    "df = df.dropna()"
   ]
  },
  {
   "cell_type": "code",
   "execution_count": 49,
   "id": "68d6c6be",
   "metadata": {},
   "outputs": [
    {
     "name": "stdout",
     "output_type": "stream",
     "text": [
      "Test-Statistic              0.385532\n",
      "p-value                     0.980946\n",
      "Lags Used                  11.000000\n",
      "Number of observations    130.000000\n",
      "critical_value (1%)        -3.481682\n",
      "critical_value (5%)        -2.884042\n",
      "critical_value (10%)       -2.578770\n",
      "dtype: float64\n"
     ]
    }
   ],
   "source": [
    "adf_calculation(df[\"Diff_Month\"])"
   ]
  },
  {
   "cell_type": "code",
   "execution_count": 62,
   "id": "5cab5fe3",
   "metadata": {},
   "outputs": [],
   "source": [
    "def log_transform(df_column : pd.Series) -> pd.Series:\n",
    "    return np.log2(df_column)"
   ]
  },
  {
   "cell_type": "code",
   "execution_count": 63,
   "id": "0b69cf88",
   "metadata": {},
   "outputs": [],
   "source": [
    "df[\"log_passengers\"] = log_transform(df[\"#Passengers\"])"
   ]
  },
  {
   "cell_type": "code",
   "execution_count": 64,
   "id": "2360fdbf",
   "metadata": {},
   "outputs": [
    {
     "name": "stdout",
     "output_type": "stream",
     "text": [
      "Test-Statistic             -2.347953\n",
      "p-value                     0.156968\n",
      "Lags Used                  14.000000\n",
      "Number of observations    127.000000\n",
      "critical_value (1%)        -3.482920\n",
      "critical_value (5%)        -2.884580\n",
      "critical_value (10%)       -2.579058\n",
      "dtype: float64\n"
     ]
    }
   ],
   "source": [
    "adf_calculation(df[\"log_passengers\"])"
   ]
  },
  {
   "cell_type": "code",
   "execution_count": 71,
   "id": "d42916b7",
   "metadata": {},
   "outputs": [
    {
     "data": {
      "text/plain": [
       "<AxesSubplot:>"
      ]
     },
     "execution_count": 71,
     "metadata": {},
     "output_type": "execute_result"
    },
    {
     "data": {
      "image/png": "[encoded data removed]",
      "text/plain": [
       "<Figure size 432x288 with 1 Axes>"
      ]
     },
     "metadata": {
      "needs_background": "light"
     },
     "output_type": "display_data"
    }
   ],
   "source": [
    "df[\"log_passengers\"].plot()"
   ]
  },
  {
   "cell_type": "code",
   "execution_count": 73,
   "id": "f3d9d1e3",
   "metadata": {},
   "outputs": [],
   "source": [
    "df[\"F_diff_log_passengers\"] = df[\"log_passengers\"] - df[\"log_passengers\"].shift(1) \n",
    "df = df.dropna()"
   ]
  },
  {
   "cell_type": "code",
   "execution_count": 74,
   "id": "dc7c14f4",
   "metadata": {},
   "outputs": [
    {
     "data": {
      "text/plain": [
       "<AxesSubplot:>"
      ]
     },
     "execution_count": 74,
     "metadata": {},
     "output_type": "execute_result"
    },
    {
     "data": {
      "image/png": "[encoded data removed]",
      "text/plain": [
       "<Figure size 432x288 with 1 Axes>"
      ]
     },
     "metadata": {
      "needs_background": "light"
     },
     "output_type": "display_data"
    }
   ],
   "source": [
    "df[\"F_diff_log_passengers\"].plot()"
   ]
  },
  {
   "cell_type": "code",
   "execution_count": 75,
   "id": "d94152d2",
   "metadata": {},
   "outputs": [
    {
     "name": "stdout",
     "output_type": "stream",
     "text": [
      "Test-Statistic             -2.588302\n",
      "p-value                     0.095439\n",
      "Lags Used                  14.000000\n",
      "Number of observations    125.000000\n",
      "critical_value (1%)        -3.483779\n",
      "critical_value (5%)        -2.884954\n",
      "critical_value (10%)       -2.579257\n",
      "dtype: float64\n"
     ]
    }
   ],
   "source": [
    "adf_calculation(df[\"F_diff_log_passengers\"])"
   ]
  },
  {
   "cell_type": "code",
   "execution_count": 72,
   "id": "fef8c613",
   "metadata": {},
   "outputs": [
    {
     "data": {
      "text/plain": [
       "<AxesSubplot:>"
      ]
     },
     "execution_count": 72,
     "metadata": {},
     "output_type": "execute_result"
    },
    {
     "data": {
      "image/png": "[encoded data removed]",
      "text/plain": [
       "<Figure size 432x288 with 1 Axes>"
      ]
     },
     "metadata": {
      "needs_background": "light"
     },
     "output_type": "display_data"
    }
   ],
   "source": [
    "df[\"#Passengers\"].plot()"
   ]
  },
  {
   "cell_type": "code",
   "execution_count": 65,
   "id": "b5d3286e",
   "metadata": {},
   "outputs": [],
   "source": [
    "def square_root(df_column: pd.Series) -> pd.Series:\n",
    "    return np.sqrt(df_column)"
   ]
  },
  {
   "cell_type": "code",
   "execution_count": 66,
   "id": "f6f79ce7",
   "metadata": {},
   "outputs": [],
   "source": [
    "df[\"sq_passengers\"] = square_root(df[\"#Passengers\"])"
   ]
  },
  {
   "cell_type": "code",
   "execution_count": 67,
   "id": "0fe1ddf8",
   "metadata": {},
   "outputs": [
    {
     "name": "stdout",
     "output_type": "stream",
     "text": [
      "Test-Statistic             -0.469215\n",
      "p-value                     0.897885\n",
      "Lags Used                  13.000000\n",
      "Number of observations    128.000000\n",
      "critical_value (1%)        -3.482501\n",
      "critical_value (5%)        -2.884398\n",
      "critical_value (10%)       -2.578960\n",
      "dtype: float64\n"
     ]
    }
   ],
   "source": [
    "adf_calculation(df[\"sq_passengers\"])"
   ]
  },
  {
   "cell_type": "markdown",
   "id": "7867c82c",
   "metadata": {},
   "source": [
    "## ACF"
   ]
  },
  {
   "cell_type": "code",
   "execution_count": null,
   "id": "1d546988",
   "metadata": {},
   "outputs": [],
   "source": []
  }
 ],
 "metadata": {
  "kernelspec": {
   "display_name": "Python 3 (ipykernel)",
   "language": "python",
   "name": "python3"
  },
  "language_info": {
   "codemirror_mode": {
    "name": "ipython",
    "version": 3
   },
   "file_extension": ".py",
   "mimetype": "text/x-python",
   "name": "python",
   "nbconvert_exporter": "python",
   "pygments_lexer": "ipython3",
   "version": "3.9.7"
  }
 },
 "nbformat": 4,
 "nbformat_minor": 5
}
