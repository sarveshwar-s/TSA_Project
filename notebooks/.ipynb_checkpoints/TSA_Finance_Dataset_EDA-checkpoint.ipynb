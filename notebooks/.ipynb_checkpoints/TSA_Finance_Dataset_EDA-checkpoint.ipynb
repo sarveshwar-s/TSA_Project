{
 "cells": [
  {
   "cell_type": "code",
   "execution_count": 1,
   "metadata": {
    "_cell_guid": "b1076dfc-b9ad-4769-8c92-a6c4dae69d19",
    "_uuid": "8f2839f25d086af736a60e9eeb907d3b93b6e0e5",
    "execution": {
     "iopub.execute_input": "2022-01-02T23:56:09.611437Z",
     "iopub.status.busy": "2022-01-02T23:56:09.611018Z",
     "iopub.status.idle": "2022-01-02T23:56:09.631796Z",
     "shell.execute_reply": "2022-01-02T23:56:09.631073Z",
     "shell.execute_reply.started": "2022-01-02T23:56:09.611322Z"
    }
   },
   "outputs": [],
   "source": [
    "import numpy as np # linear algebra\n",
    "import pandas as pd # data processing, CSV file I/O (e.g. pd.read_csv)"
   ]
  },
  {
   "cell_type": "code",
   "execution_count": 1,
   "metadata": {
    "execution": {
     "iopub.execute_input": "2022-01-02T23:56:10.503129Z",
     "iopub.status.busy": "2022-01-02T23:56:10.502321Z",
     "iopub.status.idle": "2022-01-02T23:56:29.777407Z",
     "shell.execute_reply": "2022-01-02T23:56:29.776464Z",
     "shell.execute_reply.started": "2022-01-02T23:56:10.503088Z"
    }
   },
   "outputs": [
    {
     "ename": "NameError",
     "evalue": "name 'pd' is not defined",
     "output_type": "error",
     "traceback": [
      "\u001b[1;31m---------------------------------------------------------------------------\u001b[0m",
      "\u001b[1;31mNameError\u001b[0m                                 Traceback (most recent call last)",
      "\u001b[1;32m~\\AppData\\Local\\Temp/ipykernel_18728/4208688782.py\u001b[0m in \u001b[0;36m<module>\u001b[1;34m\u001b[0m\n\u001b[1;32m----> 1\u001b[1;33m \u001b[0mdf\u001b[0m \u001b[1;33m=\u001b[0m \u001b[0mpd\u001b[0m\u001b[1;33m.\u001b[0m\u001b[0mread_csv\u001b[0m\u001b[1;33m(\u001b[0m\u001b[1;34m\"../datasets/PS_20174392719_1491204439457_log.csv\"\u001b[0m\u001b[1;33m)\u001b[0m\u001b[1;33m\u001b[0m\u001b[1;33m\u001b[0m\u001b[0m\n\u001b[0m\u001b[0;32m      2\u001b[0m \u001b[0mdf\u001b[0m\u001b[1;33m.\u001b[0m\u001b[0mhead\u001b[0m\u001b[1;33m(\u001b[0m\u001b[1;33m)\u001b[0m\u001b[1;33m\u001b[0m\u001b[1;33m\u001b[0m\u001b[0m\n",
      "\u001b[1;31mNameError\u001b[0m: name 'pd' is not defined"
     ]
    }
   ],
   "source": [
    "df = pd.read_csv(\"../datasets/PS_20174392719_1491204439457_log.csv\")\n",
    "df.head()"
   ]
  },
  {
   "cell_type": "code",
   "execution_count": 43,
   "metadata": {
    "execution": {
     "iopub.execute_input": "2022-01-03T00:08:52.449864Z",
     "iopub.status.busy": "2022-01-03T00:08:52.449534Z",
     "iopub.status.idle": "2022-01-03T00:08:54.411674Z",
     "shell.execute_reply": "2022-01-03T00:08:54.410658Z",
     "shell.execute_reply.started": "2022-01-03T00:08:52.449822Z"
    }
   },
   "outputs": [],
   "source": [
    "df.describe()"
   ]
  },
  {
   "cell_type": "code",
   "execution_count": 44,
   "metadata": {
    "execution": {
     "iopub.execute_input": "2022-01-03T00:09:00.327769Z",
     "iopub.status.busy": "2022-01-03T00:09:00.327457Z",
     "iopub.status.idle": "2022-01-03T00:09:00.344708Z",
     "shell.execute_reply": "2022-01-03T00:09:00.344003Z",
     "shell.execute_reply.started": "2022-01-03T00:09:00.327736Z"
    }
   },
   "outputs": [],
   "source": [
    "df.info()"
   ]
  },
  {
   "cell_type": "code",
   "execution_count": 3,
   "metadata": {
    "execution": {
     "iopub.execute_input": "2022-01-02T23:56:29.779283Z",
     "iopub.status.busy": "2022-01-02T23:56:29.779013Z",
     "iopub.status.idle": "2022-01-02T23:56:30.819359Z",
     "shell.execute_reply": "2022-01-02T23:56:30.818471Z",
     "shell.execute_reply.started": "2022-01-02T23:56:29.779254Z"
    }
   },
   "outputs": [],
   "source": [
    "transfer_fraud = df[(df[\"isFraud\"]==1) & (df[\"type\"]==\"TRANSFER\")]\n",
    "transfer_fraud.head()"
   ]
  },
  {
   "cell_type": "code",
   "execution_count": null,
   "metadata": {},
   "outputs": [],
   "source": []
  },
  {
   "cell_type": "code",
   "execution_count": 5,
   "metadata": {
    "execution": {
     "iopub.execute_input": "2022-01-02T23:56:30.851075Z",
     "iopub.status.busy": "2022-01-02T23:56:30.850470Z",
     "iopub.status.idle": "2022-01-02T23:56:31.166437Z",
     "shell.execute_reply": "2022-01-02T23:56:31.165284Z",
     "shell.execute_reply.started": "2022-01-02T23:56:30.851027Z"
    }
   },
   "outputs": [],
   "source": [
    "transfer_fraud.plot.scatter(x=\"step\", y=\"amount\")"
   ]
  },
  {
   "cell_type": "code",
   "execution_count": 6,
   "metadata": {
    "execution": {
     "iopub.execute_input": "2022-01-02T23:56:31.167995Z",
     "iopub.status.busy": "2022-01-02T23:56:31.167735Z",
     "iopub.status.idle": "2022-01-02T23:56:31.199505Z",
     "shell.execute_reply": "2022-01-02T23:56:31.198298Z",
     "shell.execute_reply.started": "2022-01-02T23:56:31.167962Z"
    }
   },
   "outputs": [],
   "source": [
    "df"
   ]
  },
  {
   "cell_type": "code",
   "execution_count": 7,
   "metadata": {
    "execution": {
     "iopub.execute_input": "2022-01-02T23:56:31.201509Z",
     "iopub.status.busy": "2022-01-02T23:56:31.201224Z",
     "iopub.status.idle": "2022-01-02T23:56:32.517239Z",
     "shell.execute_reply": "2022-01-02T23:56:32.516196Z",
     "shell.execute_reply.started": "2022-01-02T23:56:31.201476Z"
    }
   },
   "outputs": [],
   "source": [
    "# shows the number of fraudulent transactions made under type PAYMENT\n",
    "df[df[\"type\"]==\"PAYMENT\"][\"isFraud\"].value_counts()"
   ]
  },
  {
   "cell_type": "code",
   "execution_count": 8,
   "metadata": {
    "execution": {
     "iopub.execute_input": "2022-01-02T23:56:32.518633Z",
     "iopub.status.busy": "2022-01-02T23:56:32.518403Z",
     "iopub.status.idle": "2022-01-02T23:56:33.871044Z",
     "shell.execute_reply": "2022-01-02T23:56:33.870087Z",
     "shell.execute_reply.started": "2022-01-02T23:56:32.518605Z"
    }
   },
   "outputs": [],
   "source": [
    "# shows the number of fraudulent transactions in the CASH_OUT type transactions\n",
    "df[df[\"type\"]==\"CASH_OUT\"][\"isFraud\"].value_counts() "
   ]
  },
  {
   "cell_type": "code",
   "execution_count": 9,
   "metadata": {
    "execution": {
     "iopub.execute_input": "2022-01-02T23:56:33.872732Z",
     "iopub.status.busy": "2022-01-02T23:56:33.872484Z",
     "iopub.status.idle": "2022-01-02T23:56:34.996774Z",
     "shell.execute_reply": "2022-01-02T23:56:34.995677Z",
     "shell.execute_reply.started": "2022-01-02T23:56:33.872702Z"
    }
   },
   "outputs": [],
   "source": [
    "# shows the number of fraudulent transactions in the TRANSFER type transactions\n",
    "df[df[\"type\"]==\"TRANSFER\"][\"isFraud\"].value_counts() "
   ]
  },
  {
   "cell_type": "code",
   "execution_count": 10,
   "metadata": {
    "execution": {
     "iopub.execute_input": "2022-01-02T23:56:34.998781Z",
     "iopub.status.busy": "2022-01-02T23:56:34.998353Z",
     "iopub.status.idle": "2022-01-02T23:56:36.069673Z",
     "shell.execute_reply": "2022-01-02T23:56:36.068651Z",
     "shell.execute_reply.started": "2022-01-02T23:56:34.998735Z"
    }
   },
   "outputs": [],
   "source": [
    "# shows the number of fraudulent transactions in the DEBIT type transactions\n",
    "df[df[\"type\"]==\"DEBIT\"][\"isFraud\"].value_counts() "
   ]
  },
  {
   "cell_type": "code",
   "execution_count": 11,
   "metadata": {
    "execution": {
     "iopub.execute_input": "2022-01-02T23:56:36.073307Z",
     "iopub.status.busy": "2022-01-02T23:56:36.072933Z",
     "iopub.status.idle": "2022-01-02T23:56:37.299879Z",
     "shell.execute_reply": "2022-01-02T23:56:37.299208Z",
     "shell.execute_reply.started": "2022-01-02T23:56:36.073249Z"
    }
   },
   "outputs": [],
   "source": [
    "# shows the number of fraudulent transactions in the CASH_IN type transactions\n",
    "df[df[\"type\"]==\"CASH_IN\"][\"isFraud\"].value_counts() "
   ]
  },
  {
   "cell_type": "markdown",
   "metadata": {},
   "source": []
  },
  {
   "cell_type": "markdown",
   "metadata": {},
   "source": [
    "## Transfers dataframe analysis"
   ]
  },
  {
   "cell_type": "code",
   "execution_count": 12,
   "metadata": {
    "execution": {
     "iopub.execute_input": "2022-01-02T23:56:37.301087Z",
     "iopub.status.busy": "2022-01-02T23:56:37.300850Z",
     "iopub.status.idle": "2022-01-02T23:56:38.411937Z",
     "shell.execute_reply": "2022-01-02T23:56:38.410888Z",
     "shell.execute_reply.started": "2022-01-02T23:56:37.301060Z"
    }
   },
   "outputs": [],
   "source": [
    "transfer_df = df[df[\"type\"]==\"TRANSFER\"]\n",
    "transfer_df"
   ]
  },
  {
   "cell_type": "code",
   "execution_count": 13,
   "metadata": {
    "execution": {
     "iopub.execute_input": "2022-01-02T23:56:38.413439Z",
     "iopub.status.busy": "2022-01-02T23:56:38.413212Z",
     "iopub.status.idle": "2022-01-02T23:56:40.429036Z",
     "shell.execute_reply": "2022-01-02T23:56:40.427931Z",
     "shell.execute_reply.started": "2022-01-02T23:56:38.413410Z"
    }
   },
   "outputs": [],
   "source": [
    "transfer_df.plot.scatter(x=\"step\", y=\"amount\")"
   ]
  },
  {
   "cell_type": "code",
   "execution_count": 14,
   "metadata": {
    "execution": {
     "iopub.execute_input": "2022-01-02T23:56:40.430739Z",
     "iopub.status.busy": "2022-01-02T23:56:40.430512Z",
     "iopub.status.idle": "2022-01-02T23:56:40.478141Z",
     "shell.execute_reply": "2022-01-02T23:56:40.477111Z",
     "shell.execute_reply.started": "2022-01-02T23:56:40.430711Z"
    }
   },
   "outputs": [],
   "source": [
    "first_step = transfer_df[(transfer_df[\"step\"] > 295)]\n",
    "first_step[(first_step[\"isFraud\"]==1)]"
   ]
  },
  {
   "cell_type": "code",
   "execution_count": 15,
   "metadata": {
    "execution": {
     "iopub.execute_input": "2022-01-02T23:56:40.479589Z",
     "iopub.status.busy": "2022-01-02T23:56:40.479359Z",
     "iopub.status.idle": "2022-01-02T23:56:40.498541Z",
     "shell.execute_reply": "2022-01-02T23:56:40.497499Z",
     "shell.execute_reply.started": "2022-01-02T23:56:40.479561Z"
    }
   },
   "outputs": [],
   "source": [
    "transfer_df[transfer_df[\"amount\"]==92445516.64]"
   ]
  },
  {
   "cell_type": "code",
   "execution_count": 16,
   "metadata": {
    "execution": {
     "iopub.execute_input": "2022-01-02T23:56:40.500667Z",
     "iopub.status.busy": "2022-01-02T23:56:40.500325Z",
     "iopub.status.idle": "2022-01-02T23:56:41.553705Z",
     "shell.execute_reply": "2022-01-02T23:56:41.552482Z",
     "shell.execute_reply.started": "2022-01-02T23:56:40.500621Z"
    }
   },
   "outputs": [],
   "source": [
    "# Required Libraries\n",
    "from statsmodels.tsa.stattools import adfuller"
   ]
  },
  {
   "cell_type": "code",
   "execution_count": 17,
   "metadata": {
    "execution": {
     "iopub.execute_input": "2022-01-02T23:56:41.556145Z",
     "iopub.status.busy": "2022-01-02T23:56:41.555300Z",
     "iopub.status.idle": "2022-01-02T23:56:41.563883Z",
     "shell.execute_reply": "2022-01-02T23:56:41.562477Z",
     "shell.execute_reply.started": "2022-01-02T23:56:41.556095Z"
    }
   },
   "outputs": [],
   "source": [
    "def adf_calculation(col_name):\n",
    "    adf_test = adfuller(col_name)\n",
    "    adf_output = pd.Series(adf_test[0:4], index=[\"Test-Statistic\", \"p-value\", \"Lags Used\", \"Number of observations\"])\n",
    "    for key, value in adf_test[4].items():\n",
    "        adf_output[\"critical_value (%s) \"%key] = value\n",
    "    print(adf_output)"
   ]
  },
  {
   "cell_type": "code",
   "execution_count": 28,
   "metadata": {
    "execution": {
     "iopub.execute_input": "2022-01-03T00:02:11.983020Z",
     "iopub.status.busy": "2022-01-03T00:02:11.982675Z",
     "iopub.status.idle": "2022-01-03T00:02:12.104097Z",
     "shell.execute_reply": "2022-01-03T00:02:12.103070Z",
     "shell.execute_reply.started": "2022-01-03T00:02:11.982982Z"
    }
   },
   "outputs": [],
   "source": [
    "adf_calculation(transfer_df[\"amount\"][:2500])"
   ]
  },
  {
   "cell_type": "code",
   "execution_count": 29,
   "metadata": {
    "execution": {
     "iopub.execute_input": "2022-01-03T00:02:39.883084Z",
     "iopub.status.busy": "2022-01-03T00:02:39.882767Z",
     "iopub.status.idle": "2022-01-03T00:02:40.109351Z",
     "shell.execute_reply": "2022-01-03T00:02:40.108317Z",
     "shell.execute_reply.started": "2022-01-03T00:02:39.883051Z"
    }
   },
   "outputs": [],
   "source": [
    "transfer_df[\"amount\"][:2500].plot()"
   ]
  },
  {
   "cell_type": "code",
   "execution_count": 30,
   "metadata": {
    "execution": {
     "iopub.execute_input": "2022-01-03T00:02:51.202755Z",
     "iopub.status.busy": "2022-01-03T00:02:51.201764Z",
     "iopub.status.idle": "2022-01-03T00:02:51.318943Z",
     "shell.execute_reply": "2022-01-03T00:02:51.317877Z",
     "shell.execute_reply.started": "2022-01-03T00:02:51.202710Z"
    }
   },
   "outputs": [],
   "source": [
    "adf_calculation(transfer_df[\"oldbalanceOrg\"][:2500])"
   ]
  },
  {
   "cell_type": "code",
   "execution_count": 31,
   "metadata": {
    "execution": {
     "iopub.execute_input": "2022-01-03T00:03:03.571571Z",
     "iopub.status.busy": "2022-01-03T00:03:03.571265Z",
     "iopub.status.idle": "2022-01-03T00:03:03.811127Z",
     "shell.execute_reply": "2022-01-03T00:03:03.809314Z",
     "shell.execute_reply.started": "2022-01-03T00:03:03.571539Z"
    }
   },
   "outputs": [],
   "source": [
    "transfer_df[\"oldbalanceOrg\"][:2500].plot()"
   ]
  },
  {
   "cell_type": "code",
   "execution_count": 38,
   "metadata": {
    "execution": {
     "iopub.execute_input": "2022-01-03T00:07:23.775259Z",
     "iopub.status.busy": "2022-01-03T00:07:23.774942Z",
     "iopub.status.idle": "2022-01-03T00:07:23.854426Z",
     "shell.execute_reply": "2022-01-03T00:07:23.853311Z",
     "shell.execute_reply.started": "2022-01-03T00:07:23.775227Z"
    }
   },
   "outputs": [],
   "source": [
    "adf_calculation(transfer_df[\"newbalanceDest\"][:1500])"
   ]
  },
  {
   "cell_type": "code",
   "execution_count": 36,
   "metadata": {
    "execution": {
     "iopub.execute_input": "2022-01-03T00:06:09.113253Z",
     "iopub.status.busy": "2022-01-03T00:06:09.112605Z",
     "iopub.status.idle": "2022-01-03T00:06:09.519963Z",
     "shell.execute_reply": "2022-01-03T00:06:09.518893Z",
     "shell.execute_reply.started": "2022-01-03T00:06:09.113196Z"
    }
   },
   "outputs": [],
   "source": [
    "transfer_df[\"newbalanceDest\"].plot()"
   ]
  },
  {
   "cell_type": "code",
   "execution_count": 42,
   "metadata": {
    "execution": {
     "iopub.execute_input": "2022-01-03T00:08:35.303522Z",
     "iopub.status.busy": "2022-01-03T00:08:35.303203Z",
     "iopub.status.idle": "2022-01-03T00:08:35.945561Z",
     "shell.execute_reply": "2022-01-03T00:08:35.944545Z",
     "shell.execute_reply.started": "2022-01-03T00:08:35.303488Z"
    }
   },
   "outputs": [],
   "source": [
    "adf_calculation(transfer_df[\"step\"][:10000])"
   ]
  },
  {
   "cell_type": "code",
   "execution_count": 40,
   "metadata": {
    "execution": {
     "iopub.execute_input": "2022-01-03T00:08:06.886950Z",
     "iopub.status.busy": "2022-01-03T00:08:06.886567Z",
     "iopub.status.idle": "2022-01-03T00:08:07.231070Z",
     "shell.execute_reply": "2022-01-03T00:08:07.230027Z",
     "shell.execute_reply.started": "2022-01-03T00:08:06.886893Z"
    }
   },
   "outputs": [],
   "source": [
    "transfer_df[\"step\"].plot()"
   ]
  },
  {
   "cell_type": "code",
   "execution_count": null,
   "metadata": {},
   "outputs": [],
   "source": []
  }
 ],
 "metadata": {
  "kernelspec": {
   "display_name": "Python 3 (ipykernel)",
   "language": "python",
   "name": "python3"
  },
  "language_info": {
   "codemirror_mode": {
    "name": "ipython",
    "version": 3
   },
   "file_extension": ".py",
   "mimetype": "text/x-python",
   "name": "python",
   "nbconvert_exporter": "python",
   "pygments_lexer": "ipython3",
   "version": "3.9.7"
  }
 },
 "nbformat": 4,
 "nbformat_minor": 4
}
