{
 "cells": [
  {
   "cell_type": "code",
   "execution_count": 46,
   "metadata": {
    "_cell_guid": "b1076dfc-b9ad-4769-8c92-a6c4dae69d19",
    "_uuid": "8f2839f25d086af736a60e9eeb907d3b93b6e0e5",
    "execution": {
     "iopub.execute_input": "2022-01-02T23:56:09.611437Z",
     "iopub.status.busy": "2022-01-02T23:56:09.611018Z",
     "iopub.status.idle": "2022-01-02T23:56:09.631796Z",
     "shell.execute_reply": "2022-01-02T23:56:09.631073Z",
     "shell.execute_reply.started": "2022-01-02T23:56:09.611322Z"
    }
   },
   "outputs": [],
   "source": [
    "import numpy as np \n",
    "import pandas as pd"
   ]
  },
  {
   "cell_type": "code",
   "execution_count": 3,
   "metadata": {
    "execution": {
     "iopub.execute_input": "2022-01-02T23:56:10.503129Z",
     "iopub.status.busy": "2022-01-02T23:56:10.502321Z",
     "iopub.status.idle": "2022-01-02T23:56:29.777407Z",
     "shell.execute_reply": "2022-01-02T23:56:29.776464Z",
     "shell.execute_reply.started": "2022-01-02T23:56:10.503088Z"
    }
   },
   "outputs": [
    {
     "data": {
      "text/html": [
       "<div>\n",
       "<style scoped>\n",
       "    .dataframe tbody tr th:only-of-type {\n",
       "        vertical-align: middle;\n",
       "    }\n",
       "\n",
       "    .dataframe tbody tr th {\n",
       "        vertical-align: top;\n",
       "    }\n",
       "\n",
       "    .dataframe thead th {\n",
       "        text-align: right;\n",
       "    }\n",
       "</style>\n",
       "<table border=\"1\" class=\"dataframe\">\n",
       "  <thead>\n",
       "    <tr style=\"text-align: right;\">\n",
       "      <th></th>\n",
       "      <th>timestamp</th>\n",
       "      <th>value</th>\n",
       "      <th>label</th>\n",
       "      <th>KPI ID</th>\n",
       "    </tr>\n",
       "  </thead>\n",
       "  <tbody>\n",
       "    <tr>\n",
       "      <th>0</th>\n",
       "      <td>1493568000</td>\n",
       "      <td>1.901639</td>\n",
       "      <td>0</td>\n",
       "      <td>02e99bd4f6cfb33f</td>\n",
       "    </tr>\n",
       "    <tr>\n",
       "      <th>1</th>\n",
       "      <td>1493568060</td>\n",
       "      <td>1.786885</td>\n",
       "      <td>0</td>\n",
       "      <td>02e99bd4f6cfb33f</td>\n",
       "    </tr>\n",
       "    <tr>\n",
       "      <th>2</th>\n",
       "      <td>1493568120</td>\n",
       "      <td>2.000000</td>\n",
       "      <td>0</td>\n",
       "      <td>02e99bd4f6cfb33f</td>\n",
       "    </tr>\n",
       "    <tr>\n",
       "      <th>3</th>\n",
       "      <td>1493568180</td>\n",
       "      <td>1.885246</td>\n",
       "      <td>0</td>\n",
       "      <td>02e99bd4f6cfb33f</td>\n",
       "    </tr>\n",
       "    <tr>\n",
       "      <th>4</th>\n",
       "      <td>1493568240</td>\n",
       "      <td>1.819672</td>\n",
       "      <td>0</td>\n",
       "      <td>02e99bd4f6cfb33f</td>\n",
       "    </tr>\n",
       "  </tbody>\n",
       "</table>\n",
       "</div>"
      ],
      "text/plain": [
       "    timestamp     value  label            KPI ID\n",
       "0  1493568000  1.901639      0  02e99bd4f6cfb33f\n",
       "1  1493568060  1.786885      0  02e99bd4f6cfb33f\n",
       "2  1493568120  2.000000      0  02e99bd4f6cfb33f\n",
       "3  1493568180  1.885246      0  02e99bd4f6cfb33f\n",
       "4  1493568240  1.819672      0  02e99bd4f6cfb33f"
      ]
     },
     "execution_count": 3,
     "metadata": {},
     "output_type": "execute_result"
    }
   ],
   "source": [
    "df = pd.read_csv(\"../datasets/train.csv\")\n",
    "df.head()"
   ]
  },
  {
   "cell_type": "code",
   "execution_count": 4,
   "metadata": {
    "execution": {
     "iopub.execute_input": "2022-01-03T00:08:52.449864Z",
     "iopub.status.busy": "2022-01-03T00:08:52.449534Z",
     "iopub.status.idle": "2022-01-03T00:08:54.411674Z",
     "shell.execute_reply": "2022-01-03T00:08:54.410658Z",
     "shell.execute_reply.started": "2022-01-03T00:08:52.449822Z"
    },
    "scrolled": true
   },
   "outputs": [
    {
     "data": {
      "text/html": [
       "<div>\n",
       "<style scoped>\n",
       "    .dataframe tbody tr th:only-of-type {\n",
       "        vertical-align: middle;\n",
       "    }\n",
       "\n",
       "    .dataframe tbody tr th {\n",
       "        vertical-align: top;\n",
       "    }\n",
       "\n",
       "    .dataframe thead th {\n",
       "        text-align: right;\n",
       "    }\n",
       "</style>\n",
       "<table border=\"1\" class=\"dataframe\">\n",
       "  <thead>\n",
       "    <tr style=\"text-align: right;\">\n",
       "      <th></th>\n",
       "      <th>timestamp</th>\n",
       "      <th>value</th>\n",
       "      <th>label</th>\n",
       "    </tr>\n",
       "  </thead>\n",
       "  <tbody>\n",
       "    <tr>\n",
       "      <th>count</th>\n",
       "      <td>2.476315e+06</td>\n",
       "      <td>2.476315e+06</td>\n",
       "      <td>2.476315e+06</td>\n",
       "    </tr>\n",
       "    <tr>\n",
       "      <th>mean</th>\n",
       "      <td>1.495904e+09</td>\n",
       "      <td>1.080211e+08</td>\n",
       "      <td>2.160468e-02</td>\n",
       "    </tr>\n",
       "    <tr>\n",
       "      <th>std</th>\n",
       "      <td>4.479875e+06</td>\n",
       "      <td>3.196926e+08</td>\n",
       "      <td>1.453889e-01</td>\n",
       "    </tr>\n",
       "    <tr>\n",
       "      <th>min</th>\n",
       "      <td>1.467302e+09</td>\n",
       "      <td>-4.546069e+00</td>\n",
       "      <td>0.000000e+00</td>\n",
       "    </tr>\n",
       "    <tr>\n",
       "      <th>25%</th>\n",
       "      <td>1.494256e+09</td>\n",
       "      <td>3.700000e+00</td>\n",
       "      <td>0.000000e+00</td>\n",
       "    </tr>\n",
       "    <tr>\n",
       "      <th>50%</th>\n",
       "      <td>1.496356e+09</td>\n",
       "      <td>1.293438e+03</td>\n",
       "      <td>0.000000e+00</td>\n",
       "    </tr>\n",
       "    <tr>\n",
       "      <th>75%</th>\n",
       "      <td>1.498562e+09</td>\n",
       "      <td>2.523000e+03</td>\n",
       "      <td>0.000000e+00</td>\n",
       "    </tr>\n",
       "    <tr>\n",
       "      <th>max</th>\n",
       "      <td>1.502447e+09</td>\n",
       "      <td>1.608813e+09</td>\n",
       "      <td>1.000000e+00</td>\n",
       "    </tr>\n",
       "  </tbody>\n",
       "</table>\n",
       "</div>"
      ],
      "text/plain": [
       "          timestamp         value         label\n",
       "count  2.476315e+06  2.476315e+06  2.476315e+06\n",
       "mean   1.495904e+09  1.080211e+08  2.160468e-02\n",
       "std    4.479875e+06  3.196926e+08  1.453889e-01\n",
       "min    1.467302e+09 -4.546069e+00  0.000000e+00\n",
       "25%    1.494256e+09  3.700000e+00  0.000000e+00\n",
       "50%    1.496356e+09  1.293438e+03  0.000000e+00\n",
       "75%    1.498562e+09  2.523000e+03  0.000000e+00\n",
       "max    1.502447e+09  1.608813e+09  1.000000e+00"
      ]
     },
     "execution_count": 4,
     "metadata": {},
     "output_type": "execute_result"
    }
   ],
   "source": [
    "df.describe()"
   ]
  },
  {
   "cell_type": "code",
   "execution_count": 5,
   "metadata": {
    "execution": {
     "iopub.execute_input": "2022-01-03T00:09:00.327769Z",
     "iopub.status.busy": "2022-01-03T00:09:00.327457Z",
     "iopub.status.idle": "2022-01-03T00:09:00.344708Z",
     "shell.execute_reply": "2022-01-03T00:09:00.344003Z",
     "shell.execute_reply.started": "2022-01-03T00:09:00.327736Z"
    }
   },
   "outputs": [
    {
     "name": "stdout",
     "output_type": "stream",
     "text": [
      "<class 'pandas.core.frame.DataFrame'>\n",
      "RangeIndex: 2476315 entries, 0 to 2476314\n",
      "Data columns (total 4 columns):\n",
      " #   Column     Dtype  \n",
      "---  ------     -----  \n",
      " 0   timestamp  int64  \n",
      " 1   value      float64\n",
      " 2   label      int64  \n",
      " 3   KPI ID     object \n",
      "dtypes: float64(1), int64(2), object(1)\n",
      "memory usage: 75.6+ MB\n"
     ]
    }
   ],
   "source": [
    "df.info()"
   ]
  },
  {
   "cell_type": "code",
   "execution_count": 13,
   "metadata": {},
   "outputs": [
    {
     "data": {
      "text/plain": [
       "<AxesSubplot:>"
      ]
     },
     "execution_count": 13,
     "metadata": {},
     "output_type": "execute_result"
    },
    {
     "data": {
      "image/png": "[encoded data removed]",
      "text/plain": [
       "<Figure size 432x288 with 1 Axes>"
      ]
     },
     "metadata": {
      "needs_background": "light"
     },
     "output_type": "display_data"
    }
   ],
   "source": [
    "df[\"value\"].plot()"
   ]
  },
  {
   "cell_type": "markdown",
   "metadata": {},
   "source": [
    "## 0 = No Anomaly, 1 = Anomaly"
   ]
  },
  {
   "cell_type": "code",
   "execution_count": 12,
   "metadata": {},
   "outputs": [
    {
     "data": {
      "text/plain": [
       "0    2422815\n",
       "1      53500\n",
       "Name: label, dtype: int64"
      ]
     },
     "execution_count": 12,
     "metadata": {},
     "output_type": "execute_result"
    }
   ],
   "source": [
    "df[\"label\"].value_counts()"
   ]
  },
  {
   "cell_type": "code",
   "execution_count": 49,
   "metadata": {},
   "outputs": [
    {
     "data": {
      "text/plain": [
       "count    2.476315e+06\n",
       "mean     2.160468e-02\n",
       "std      1.453889e-01\n",
       "min      0.000000e+00\n",
       "25%      0.000000e+00\n",
       "50%      0.000000e+00\n",
       "75%      0.000000e+00\n",
       "max      1.000000e+00\n",
       "Name: label, dtype: float64"
      ]
     },
     "execution_count": 49,
     "metadata": {},
     "output_type": "execute_result"
    }
   ],
   "source": [
    "df[\"label\"].describe()"
   ]
  },
  {
   "cell_type": "code",
   "execution_count": 14,
   "metadata": {
    "execution": {
     "iopub.execute_input": "2022-01-02T23:56:30.851075Z",
     "iopub.status.busy": "2022-01-02T23:56:30.850470Z",
     "iopub.status.idle": "2022-01-02T23:56:31.166437Z",
     "shell.execute_reply": "2022-01-02T23:56:31.165284Z",
     "shell.execute_reply.started": "2022-01-02T23:56:30.851027Z"
    }
   },
   "outputs": [
    {
     "data": {
      "text/plain": [
       "<AxesSubplot:xlabel='timestamp', ylabel='value'>"
      ]
     },
     "execution_count": 14,
     "metadata": {},
     "output_type": "execute_result"
    },
    {
     "data": {
      "image/png": "[encoded data removed]",
      "text/plain": [
       "<Figure size 432x288 with 1 Axes>"
      ]
     },
     "metadata": {
      "needs_background": "light"
     },
     "output_type": "display_data"
    }
   ],
   "source": [
    "df.plot.scatter(x=\"timestamp\", y=\"value\")"
   ]
  },
  {
   "cell_type": "code",
   "execution_count": 16,
   "metadata": {
    "execution": {
     "iopub.execute_input": "2022-01-02T23:56:31.167995Z",
     "iopub.status.busy": "2022-01-02T23:56:31.167735Z",
     "iopub.status.idle": "2022-01-02T23:56:31.199505Z",
     "shell.execute_reply": "2022-01-02T23:56:31.198298Z",
     "shell.execute_reply.started": "2022-01-02T23:56:31.167962Z"
    }
   },
   "outputs": [
    {
     "data": {
      "text/html": [
       "<div>\n",
       "<style scoped>\n",
       "    .dataframe tbody tr th:only-of-type {\n",
       "        vertical-align: middle;\n",
       "    }\n",
       "\n",
       "    .dataframe tbody tr th {\n",
       "        vertical-align: top;\n",
       "    }\n",
       "\n",
       "    .dataframe thead th {\n",
       "        text-align: right;\n",
       "    }\n",
       "</style>\n",
       "<table border=\"1\" class=\"dataframe\">\n",
       "  <thead>\n",
       "    <tr style=\"text-align: right;\">\n",
       "      <th></th>\n",
       "      <th>timestamp</th>\n",
       "      <th>value</th>\n",
       "      <th>label</th>\n",
       "      <th>KPI ID</th>\n",
       "    </tr>\n",
       "  </thead>\n",
       "  <tbody>\n",
       "    <tr>\n",
       "      <th>0</th>\n",
       "      <td>1493568000</td>\n",
       "      <td>1.901639</td>\n",
       "      <td>0</td>\n",
       "      <td>02e99bd4f6cfb33f</td>\n",
       "    </tr>\n",
       "    <tr>\n",
       "      <th>1</th>\n",
       "      <td>1493568060</td>\n",
       "      <td>1.786885</td>\n",
       "      <td>0</td>\n",
       "      <td>02e99bd4f6cfb33f</td>\n",
       "    </tr>\n",
       "    <tr>\n",
       "      <th>2</th>\n",
       "      <td>1493568120</td>\n",
       "      <td>2.000000</td>\n",
       "      <td>0</td>\n",
       "      <td>02e99bd4f6cfb33f</td>\n",
       "    </tr>\n",
       "    <tr>\n",
       "      <th>3</th>\n",
       "      <td>1493568180</td>\n",
       "      <td>1.885246</td>\n",
       "      <td>0</td>\n",
       "      <td>02e99bd4f6cfb33f</td>\n",
       "    </tr>\n",
       "    <tr>\n",
       "      <th>4</th>\n",
       "      <td>1493568240</td>\n",
       "      <td>1.819672</td>\n",
       "      <td>0</td>\n",
       "      <td>02e99bd4f6cfb33f</td>\n",
       "    </tr>\n",
       "    <tr>\n",
       "      <th>...</th>\n",
       "      <td>...</td>\n",
       "      <td>...</td>\n",
       "      <td>...</td>\n",
       "      <td>...</td>\n",
       "    </tr>\n",
       "    <tr>\n",
       "      <th>2476310</th>\n",
       "      <td>1496895300</td>\n",
       "      <td>0.161922</td>\n",
       "      <td>1</td>\n",
       "      <td>88cf3a776ba00e7c</td>\n",
       "    </tr>\n",
       "    <tr>\n",
       "      <th>2476311</th>\n",
       "      <td>1496895360</td>\n",
       "      <td>0.162297</td>\n",
       "      <td>1</td>\n",
       "      <td>88cf3a776ba00e7c</td>\n",
       "    </tr>\n",
       "    <tr>\n",
       "      <th>2476312</th>\n",
       "      <td>1496895420</td>\n",
       "      <td>0.160597</td>\n",
       "      <td>1</td>\n",
       "      <td>88cf3a776ba00e7c</td>\n",
       "    </tr>\n",
       "    <tr>\n",
       "      <th>2476313</th>\n",
       "      <td>1496895480</td>\n",
       "      <td>0.160393</td>\n",
       "      <td>1</td>\n",
       "      <td>88cf3a776ba00e7c</td>\n",
       "    </tr>\n",
       "    <tr>\n",
       "      <th>2476314</th>\n",
       "      <td>1496895540</td>\n",
       "      <td>0.159628</td>\n",
       "      <td>1</td>\n",
       "      <td>88cf3a776ba00e7c</td>\n",
       "    </tr>\n",
       "  </tbody>\n",
       "</table>\n",
       "<p>2476315 rows × 4 columns</p>\n",
       "</div>"
      ],
      "text/plain": [
       "          timestamp     value  label            KPI ID\n",
       "0        1493568000  1.901639      0  02e99bd4f6cfb33f\n",
       "1        1493568060  1.786885      0  02e99bd4f6cfb33f\n",
       "2        1493568120  2.000000      0  02e99bd4f6cfb33f\n",
       "3        1493568180  1.885246      0  02e99bd4f6cfb33f\n",
       "4        1493568240  1.819672      0  02e99bd4f6cfb33f\n",
       "...             ...       ...    ...               ...\n",
       "2476310  1496895300  0.161922      1  88cf3a776ba00e7c\n",
       "2476311  1496895360  0.162297      1  88cf3a776ba00e7c\n",
       "2476312  1496895420  0.160597      1  88cf3a776ba00e7c\n",
       "2476313  1496895480  0.160393      1  88cf3a776ba00e7c\n",
       "2476314  1496895540  0.159628      1  88cf3a776ba00e7c\n",
       "\n",
       "[2476315 rows x 4 columns]"
      ]
     },
     "execution_count": 16,
     "metadata": {},
     "output_type": "execute_result"
    }
   ],
   "source": [
    "df"
   ]
  },
  {
   "cell_type": "markdown",
   "metadata": {},
   "source": [
    "## Distribution of Values with anomaly"
   ]
  },
  {
   "cell_type": "code",
   "execution_count": 45,
   "metadata": {},
   "outputs": [
    {
     "data": {
      "text/plain": [
       "<matplotlib.collections.PathCollection at 0x2b3295bd850>"
      ]
     },
     "execution_count": 45,
     "metadata": {},
     "output_type": "execute_result"
    },
    {
     "data": {
      "image/png": "[encoded data removed]",
      "text/plain": [
       "<Figure size 432x288 with 1 Axes>"
      ]
     },
     "metadata": {
      "needs_background": "light"
     },
     "output_type": "display_data"
    }
   ],
   "source": [
    "df[df[\"label\"]==1].plot().scatter(x=\"timestamp\", y=\"value\")"
   ]
  },
  {
   "cell_type": "markdown",
   "metadata": {},
   "source": [
    "## Distribution of Values without anomaly"
   ]
  },
  {
   "cell_type": "code",
   "execution_count": 44,
   "metadata": {},
   "outputs": [
    {
     "data": {
      "text/plain": [
       "<matplotlib.collections.PathCollection at 0x2b329791850>"
      ]
     },
     "execution_count": 44,
     "metadata": {},
     "output_type": "execute_result"
    },
    {
     "data": {
      "image/png": "[encoded data removed]",
      "text/plain": [
       "<Figure size 432x288 with 1 Axes>"
      ]
     },
     "metadata": {
      "needs_background": "light"
     },
     "output_type": "display_data"
    }
   ],
   "source": [
    "df[df[\"label\"]==0].plot().scatter(x=\"timestamp\", y=\"value\")"
   ]
  },
  {
   "cell_type": "markdown",
   "metadata": {},
   "source": [
    "## Transfers dataframe analysis"
   ]
  },
  {
   "cell_type": "code",
   "execution_count": 18,
   "metadata": {
    "execution": {
     "iopub.execute_input": "2022-01-02T23:56:40.500667Z",
     "iopub.status.busy": "2022-01-02T23:56:40.500325Z",
     "iopub.status.idle": "2022-01-02T23:56:41.553705Z",
     "shell.execute_reply": "2022-01-02T23:56:41.552482Z",
     "shell.execute_reply.started": "2022-01-02T23:56:40.500621Z"
    }
   },
   "outputs": [],
   "source": [
    "# Required Libraries\n",
    "from statsmodels.tsa.stattools import adfuller"
   ]
  },
  {
   "cell_type": "code",
   "execution_count": 19,
   "metadata": {
    "execution": {
     "iopub.execute_input": "2022-01-02T23:56:41.556145Z",
     "iopub.status.busy": "2022-01-02T23:56:41.555300Z",
     "iopub.status.idle": "2022-01-02T23:56:41.563883Z",
     "shell.execute_reply": "2022-01-02T23:56:41.562477Z",
     "shell.execute_reply.started": "2022-01-02T23:56:41.556095Z"
    }
   },
   "outputs": [],
   "source": [
    "def adf_calculation(col_name):\n",
    "    adf_test = adfuller(col_name)\n",
    "    adf_output = pd.Series(adf_test[0:4], index=[\"Test-Statistic\", \"p-value\", \"Lags Used\", \"Number of observations\"])\n",
    "    for key, value in adf_test[4].items():\n",
    "        adf_output[\"critical_value (%s) \"%key] = value\n",
    "    print(adf_output)"
   ]
  },
  {
   "cell_type": "code",
   "execution_count": 25,
   "metadata": {
    "execution": {
     "iopub.execute_input": "2022-01-03T00:02:11.983020Z",
     "iopub.status.busy": "2022-01-03T00:02:11.982675Z",
     "iopub.status.idle": "2022-01-03T00:02:12.104097Z",
     "shell.execute_reply": "2022-01-03T00:02:12.103070Z",
     "shell.execute_reply.started": "2022-01-03T00:02:11.982982Z"
    }
   },
   "outputs": [
    {
     "name": "stdout",
     "output_type": "stream",
     "text": [
      "Test-Statistic               -3.140525\n",
      "p-value                       0.023696\n",
      "Lags Used                    42.000000\n",
      "Number of observations    14957.000000\n",
      "critical_value (1%)          -3.430787\n",
      "critical_value (5%)          -2.861733\n",
      "critical_value (10%)         -2.566873\n",
      "dtype: float64\n"
     ]
    }
   ],
   "source": [
    "adf_calculation(df[\"value\"][:15000])"
   ]
  },
  {
   "cell_type": "code",
   "execution_count": 27,
   "metadata": {
    "execution": {
     "iopub.execute_input": "2022-01-03T00:02:39.883084Z",
     "iopub.status.busy": "2022-01-03T00:02:39.882767Z",
     "iopub.status.idle": "2022-01-03T00:02:40.109351Z",
     "shell.execute_reply": "2022-01-03T00:02:40.108317Z",
     "shell.execute_reply.started": "2022-01-03T00:02:39.883051Z"
    }
   },
   "outputs": [
    {
     "data": {
      "text/plain": [
       "<AxesSubplot:>"
      ]
     },
     "execution_count": 27,
     "metadata": {},
     "output_type": "execute_result"
    },
    {
     "data": {
      "image/png": "[encoded data removed]",
      "text/plain": [
       "<Figure size 432x288 with 1 Axes>"
      ]
     },
     "metadata": {
      "needs_background": "light"
     },
     "output_type": "display_data"
    }
   ],
   "source": [
    "df[\"value\"][:15000].plot()"
   ]
  },
  {
   "cell_type": "code",
   "execution_count": 31,
   "metadata": {
    "execution": {
     "iopub.execute_input": "2022-01-03T00:02:51.202755Z",
     "iopub.status.busy": "2022-01-03T00:02:51.201764Z",
     "iopub.status.idle": "2022-01-03T00:02:51.318943Z",
     "shell.execute_reply": "2022-01-03T00:02:51.317877Z",
     "shell.execute_reply.started": "2022-01-03T00:02:51.202710Z"
    }
   },
   "outputs": [
    {
     "name": "stdout",
     "output_type": "stream",
     "text": [
      "Test-Statistic               0.715049\n",
      "p-value                      0.990133\n",
      "Lags Used                    0.000000\n",
      "Number of observations    9999.000000\n",
      "critical_value (1%)         -3.431004\n",
      "critical_value (5%)         -2.861829\n",
      "critical_value (10%)        -2.566924\n",
      "dtype: float64\n"
     ]
    }
   ],
   "source": [
    "adf_calculation(df[\"timestamp\"][:10000])"
   ]
  },
  {
   "cell_type": "code",
   "execution_count": 33,
   "metadata": {
    "execution": {
     "iopub.execute_input": "2022-01-03T00:03:03.571571Z",
     "iopub.status.busy": "2022-01-03T00:03:03.571265Z",
     "iopub.status.idle": "2022-01-03T00:03:03.811127Z",
     "shell.execute_reply": "2022-01-03T00:03:03.809314Z",
     "shell.execute_reply.started": "2022-01-03T00:03:03.571539Z"
    }
   },
   "outputs": [
    {
     "data": {
      "text/plain": [
       "<AxesSubplot:>"
      ]
     },
     "execution_count": 33,
     "metadata": {},
     "output_type": "execute_result"
    },
    {
     "data": {
      "image/png": "[encoded data removed]",
      "text/plain": [
       "<Figure size 432x288 with 1 Axes>"
      ]
     },
     "metadata": {
      "needs_background": "light"
     },
     "output_type": "display_data"
    }
   ],
   "source": [
    "df[\"timestamp\"][:10000].plot()"
   ]
  }
 ],
 "metadata": {
  "kernelspec": {
   "display_name": "Python 3 (ipykernel)",
   "language": "python",
   "name": "python3"
  },
  "language_info": {
   "codemirror_mode": {
    "name": "ipython",
    "version": 3
   },
   "file_extension": ".py",
   "mimetype": "text/x-python",
   "name": "python",
   "nbconvert_exporter": "python",
   "pygments_lexer": "ipython3",
   "version": "3.9.7"
  }
 },
 "nbformat": 4,
 "nbformat_minor": 4
}
